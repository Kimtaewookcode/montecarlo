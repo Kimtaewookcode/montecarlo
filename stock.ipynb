{
 "cells": [
  {
   "cell_type": "markdown",
   "metadata": {},
   "source": [
    "## Introduction to Monte Carlo Simulation of a S&P 500-like investment\n",
    "### Starting with 10,000 and investing an additional 10,000 annually, what is the probability that you will have at least 1,000,000 after 30years of investing in the S&P 500 etf?"
   ]
  },
  {
   "cell_type": "code",
   "execution_count": 40,
   "metadata": {},
   "outputs": [
    {
     "data": {
      "text/plain": [
       "'English_United Kingdom.1252'"
      ]
     },
     "execution_count": 40,
     "metadata": {},
     "output_type": "execute_result"
    }
   ],
   "source": [
    "import numpy as np\n",
    "import pandas as pd\n",
    "%matplotlib inline\n",
    "import matplotlib.pyplot as plt\n",
    "import locale\n",
    "locale.setlocale(locale.LC_ALL, '')\n",
    "#https://www.youtube.com/watch?v=A0J0VAHzIxc&list=WL&index=43&t=0s"
   ]
  },
  {
   "cell_type": "code",
   "execution_count": 15,
   "metadata": {
    "collapsed": true
   },
   "outputs": [
    {
     "name": "stdout",
     "output_type": "stream",
     "text": [
      "£20,700.00\n",
      "£32,149.00\n",
      "£44,399.43\n",
      "£57,507.39\n",
      "£71,532.91\n",
      "£86,540.21\n",
      "£102,598.03\n",
      "£119,779.89\n",
      "£138,164.48\n",
      "£157,835.99\n",
      "£178,884.51\n",
      "£201,406.43\n",
      "£225,504.88\n",
      "£251,290.22\n",
      "£278,880.54\n",
      "£308,402.17\n",
      "£339,990.33\n",
      "£373,789.65\n",
      "£409,954.92\n",
      "£448,651.77\n",
      "£490,057.39\n",
      "£534,361.41\n",
      "£581,766.71\n",
      "£632,490.38\n",
      "£686,764.70\n",
      "£744,838.23\n",
      "£806,976.91\n",
      "£873,465.29\n",
      "£944,607.86\n",
      "£1,020,730.41\n"
     ]
    }
   ],
   "source": [
    "pv=10000\n",
    "time_horizon=30\n",
    "i=0.07\n",
    "additions=10000\n",
    "\n",
    "for year in range(time_horizon):\n",
    "    pv=pv*(1+i)+additions\n",
    "    print(locale.currency(pv, grouping=True))\n",
    "    \n",
    "\n",
    "    "
   ]
  },
  {
   "cell_type": "code",
   "execution_count": 21,
   "metadata": {},
   "outputs": [
    {
     "name": "stdout",
     "output_type": "stream",
     "text": [
      "£23,781.08\n",
      "£33,812.83\n",
      "£52,961.70\n",
      "£88,103.10\n",
      "£85,187.33\n",
      "£105,837.51\n",
      "£144,375.06\n",
      "£138,932.27\n",
      "£108,363.40\n",
      "£121,388.17\n",
      "£140,538.78\n",
      "£165,464.51\n",
      "£147,174.88\n",
      "£114,521.49\n",
      "£136,700.09\n",
      "£128,413.00\n",
      "£166,731.99\n",
      "£192,015.96\n",
      "£176,393.83\n",
      "£175,649.42\n",
      "£185,824.05\n",
      "£227,788.11\n",
      "£270,349.65\n",
      "£268,647.66\n",
      "£276,723.44\n",
      "£288,837.67\n",
      "£285,398.14\n",
      "£397,689.55\n",
      "£352,669.49\n",
      "£477,746.31\n"
     ]
    }
   ],
   "source": [
    "pv=10000\n",
    "time_horizon=30\n",
    "expected_return=0.09\n",
    "std=0.18\n",
    "additions=10000\n",
    "for year in range(time_horizon):\n",
    "    i=np.random.normal(expected_return,std)\n",
    "    pv=pv*(1+i)+additions\n",
    "    print(locale.currency(pv, grouping=True))"
   ]
  },
  {
   "cell_type": "code",
   "execution_count": 80,
   "metadata": {},
   "outputs": [],
   "source": [
    "iteration=10000\n",
    "cases=pd.DataFrame()\n",
    "for x in range(iteration):\n",
    "    pv=10000\n",
    "    time_horizon=30\n",
    "    expected_return=0.09\n",
    "    std=0.18\n",
    "    additions=10000\n",
    "    end=[]\n",
    "    \n",
    "    for year in range(time_horizon):\n",
    "        i=np.random.normal(expected_return,std)\n",
    "        pv=pv*(1+i)+additions\n",
    "        end.append(pv)\n",
    "    #print(end)\n",
    "    cases[x]=end\n",
    "#print(cases)\n",
    "#plt.plot(cases)"
   ]
  },
  {
   "cell_type": "code",
   "execution_count": 81,
   "metadata": {},
   "outputs": [
    {
     "name": "stdout",
     "output_type": "stream",
     "text": [
      "Count:  10000\n",
      "mean :  1494646.0086611414\n",
      "standard deviation :  1199128.0901199896\n",
      "max :  19568730.143869158\n",
      "min :  113576.38600694528\n"
     ]
    }
   ],
   "source": [
    "cases.loc[29]# money value at 30th years\n",
    "print(\"Count: \", len(cases.loc[29]))\n",
    "print(\"mean : \", np.mean(cases.loc[29]))\n",
    "print(\"standard deviation : \", np.std(cases.loc[29]))\n",
    "print(\"max : \", np.max(cases.loc[29]))\n",
    "print(\"min : \", np.min(cases.loc[29]))\n"
   ]
  },
  {
   "cell_type": "code",
   "execution_count": 82,
   "metadata": {},
   "outputs": [],
   "source": [
    "cases.loc[29].describe()\n",
    "ending=cases.loc[29]"
   ]
  },
  {
   "cell_type": "code",
   "execution_count": 66,
   "metadata": {},
   "outputs": [
    {
     "data": {
      "text/plain": [
       "0    1.065553e+06\n",
       "1    1.692549e+06\n",
       "2    1.882535e+06\n",
       "3    1.306087e+06\n",
       "4    3.232997e+06\n",
       "5    2.291586e+06\n",
       "6    1.104798e+06\n",
       "7    1.176903e+06\n",
       "8    8.190138e+05\n",
       "9    9.097605e+05\n",
       "Name: 29, dtype: float64"
      ]
     },
     "execution_count": 66,
     "metadata": {},
     "output_type": "execute_result"
    }
   ],
   "source": [
    "ending"
   ]
  },
  {
   "cell_type": "code",
   "execution_count": 77,
   "metadata": {},
   "outputs": [
    {
     "data": {
      "text/plain": [
       "0      2.786832e+06\n",
       "1      1.807602e+06\n",
       "4      2.510684e+06\n",
       "6      2.152105e+06\n",
       "8      1.398872e+06\n",
       "10     2.368968e+06\n",
       "14     1.677731e+06\n",
       "15     1.063328e+06\n",
       "17     1.010875e+06\n",
       "19     1.001233e+06\n",
       "23     1.383592e+06\n",
       "24     1.566966e+06\n",
       "25     2.425018e+06\n",
       "27     2.125350e+06\n",
       "28     1.510984e+06\n",
       "30     2.542677e+06\n",
       "31     1.573747e+06\n",
       "33     1.156897e+06\n",
       "35     2.563750e+06\n",
       "36     2.179674e+06\n",
       "38     1.739302e+06\n",
       "40     1.452546e+06\n",
       "42     1.249286e+06\n",
       "44     3.537723e+06\n",
       "45     1.407891e+06\n",
       "48     1.531008e+06\n",
       "49     1.198383e+06\n",
       "51     3.005491e+06\n",
       "52     5.028947e+06\n",
       "55     2.169900e+06\n",
       "           ...     \n",
       "949    3.122795e+06\n",
       "951    1.940861e+06\n",
       "952    1.350218e+06\n",
       "954    2.706396e+06\n",
       "955    4.067316e+06\n",
       "956    2.116564e+06\n",
       "957    2.520721e+06\n",
       "961    1.029827e+06\n",
       "962    4.681836e+06\n",
       "965    3.384706e+06\n",
       "966    1.136425e+06\n",
       "967    1.031815e+06\n",
       "968    1.419609e+06\n",
       "969    1.216309e+06\n",
       "975    1.170845e+06\n",
       "976    5.047316e+06\n",
       "979    1.616718e+06\n",
       "982    2.166126e+06\n",
       "983    1.236250e+06\n",
       "984    1.228299e+06\n",
       "988    1.680476e+06\n",
       "989    1.870418e+06\n",
       "990    3.705689e+06\n",
       "992    1.519504e+06\n",
       "994    1.599827e+06\n",
       "995    2.561562e+06\n",
       "996    3.598957e+06\n",
       "997    1.393251e+06\n",
       "998    3.370718e+06\n",
       "999    1.550041e+06\n",
       "Name: 29, Length: 609, dtype: float64"
      ]
     },
     "execution_count": 77,
     "metadata": {},
     "output_type": "execute_result"
    }
   ],
   "source": [
    "ending[ending>=1000000]"
   ]
  },
  {
   "cell_type": "code",
   "execution_count": 83,
   "metadata": {},
   "outputs": [
    {
     "data": {
      "text/plain": [
       "0.5876"
      ]
     },
     "execution_count": 83,
     "metadata": {},
     "output_type": "execute_result"
    }
   ],
   "source": [
    "len(ending[ending>=1000000])/len(ending)"
   ]
  },
  {
   "cell_type": "code",
   "execution_count": null,
   "metadata": {},
   "outputs": [],
   "source": []
  }
 ],
 "metadata": {
  "kernelspec": {
   "display_name": "Python 3",
   "language": "python",
   "name": "python3"
  },
  "language_info": {
   "codemirror_mode": {
    "name": "ipython",
    "version": 3
   },
   "file_extension": ".py",
   "mimetype": "text/x-python",
   "name": "python",
   "nbconvert_exporter": "python",
   "pygments_lexer": "ipython3",
   "version": "3.7.1"
  }
 },
 "nbformat": 4,
 "nbformat_minor": 2
}
